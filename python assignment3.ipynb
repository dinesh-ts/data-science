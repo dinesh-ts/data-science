{
 "cells": [
  {
   "cell_type": "code",
   "execution_count": 36,
   "metadata": {},
   "outputs": [
    {
     "name": "stdout",
     "output_type": "stream",
     "text": [
      "My reduce output is:15\n"
     ]
    }
   ],
   "source": [
    "\n",
    "def myreduce1(func1,list1):\n",
    "    y = list1[0]\n",
    "    for i in list1[1:]:\n",
    "        y=func1(y,i)\n",
    "    return y\n",
    "def func1(a,b):\n",
    "    return a+b\n",
    "l=[1,2,3,4,5]\n",
    "print(f\"My reduce output is:{myreduce1(func1,l)}\")\n",
    "    "
   ]
  },
  {
   "cell_type": "code",
   "execution_count": 14,
   "metadata": {},
   "outputs": [
    {
     "name": "stdout",
     "output_type": "stream",
     "text": [
      "myfilter output is:[2, 4, 6]\n"
     ]
    }
   ],
   "source": [
    "\n",
    "def myfilter(func,lst1):\n",
    "    list2=[]  \n",
    "    for i in lst1:\n",
    "\n",
    "        if func(i) is True:\n",
    "            list2.append(i)\n",
    "    return list2   \n",
    "def func(a):\n",
    "    if a%2==0:\n",
    "        return True\n",
    "l1=[1,2,3,4,5,6,7]\n",
    "print(f\"myfilter output is:{myfilter(func,l1)}\")\n",
    "        "
   ]
  },
  {
   "cell_type": "code",
   "execution_count": 24,
   "metadata": {},
   "outputs": [
    {
     "name": "stdout",
     "output_type": "stream",
     "text": [
      "['x', 'xx', 'xxx', 'xxxx', 'y', 'yy', 'yyy', 'yyyy', 'z', 'zz', 'zzz', 'zzzz']\n",
      "['x', 'y', 'z', 'xx', 'yy', 'zz', 'xxx', 'yyy', 'zzz', 'xxxx', 'yyyy', 'zzzz']\n",
      "[[2], [3], [4], [3], [4], [5], [4], [5], [6]]\n",
      "[[2, 3, 4, 5], [3, 4, 5, 6], [4, 5, 6, 7], [5, 6, 7, 8]]\n",
      "[(1, 1), (2, 1), (3, 1), (1, 2), (2, 2), (3, 2), (1, 3), (2, 3), (3, 3)]\n"
     ]
    }
   ],
   "source": [
    "word=list(\"xyz\")\n",
    "word1=[x*n for x in word for n in range(1,5)]\n",
    "print(word1)\n",
    "word2=[x*n for n in range(1,5) for x in word]\n",
    "print(word2)\n",
    "number=[2,3,4]\n",
    "number1=[[x+n] for n in range(3) for x in number]\n",
    "print(number1)\n",
    "number2=[2,3,4,5]\n",
    "number3=[[x+n for n in range(4)]for x in number2]\n",
    "print(number3)\n",
    "number4=[1,2,3]\n",
    "number5=[(x,n) for n in range(1,4) for x in number4 ]\n",
    "print(number5)"
   ]
  },
  {
   "cell_type": "code",
   "execution_count": null,
   "metadata": {},
   "outputs": [],
   "source": []
  }
 ],
 "metadata": {
  "kernelspec": {
   "display_name": "Python 3",
   "language": "python",
   "name": "python3"
  },
  "language_info": {
   "codemirror_mode": {
    "name": "ipython",
    "version": 3
   },
   "file_extension": ".py",
   "mimetype": "text/x-python",
   "name": "python",
   "nbconvert_exporter": "python",
   "pygments_lexer": "ipython3",
   "version": "3.7.1"
  }
 },
 "nbformat": 4,
 "nbformat_minor": 2
}
