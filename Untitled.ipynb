{
 "cells": [
  {
   "cell_type": "code",
   "execution_count": 1,
   "metadata": {},
   "outputs": [
    {
     "ename": "NameError",
     "evalue": "name 'day' is not defined",
     "output_type": "error",
     "traceback": [
      "\u001b[1;31m---------------------------------------------------------------------------\u001b[0m",
      "\u001b[1;31mNameError\u001b[0m                                 Traceback (most recent call last)",
      "\u001b[1;32m<ipython-input-1-87723897bdf4>\u001b[0m in \u001b[0;36m<module>\u001b[1;34m\u001b[0m\n\u001b[1;32m----> 1\u001b[1;33m \u001b[0mday\u001b[0m \u001b[1;33m+\u001b[0m \u001b[1;36m1\u001b[0m\u001b[1;33m\u001b[0m\u001b[1;33m\u001b[0m\u001b[0m\n\u001b[0m",
      "\u001b[1;31mNameError\u001b[0m: name 'day' is not defined"
     ]
    }
   ],
   "source": [
    "day + 1\n"
   ]
  },
  {
   "cell_type": "code",
   "execution_count": 7,
   "metadata": {},
   "outputs": [
    {
     "data": {
      "text/plain": [
       "'day 1'"
      ]
     },
     "execution_count": 7,
     "metadata": {},
     "output_type": "execute_result"
    }
   ],
   "source": [
    "'day' + ' 1'\n"
   ]
  },
  {
   "cell_type": "code",
   "execution_count": 8,
   "metadata": {},
   "outputs": [
    {
     "data": {
      "text/plain": [
       "'sunday'"
      ]
     },
     "execution_count": 8,
     "metadata": {},
     "output_type": "execute_result"
    }
   ],
   "source": [
    "day='sunday'\n",
    "day"
   ]
  },
  {
   "cell_type": "code",
   "execution_count": 9,
   "metadata": {},
   "outputs": [],
   "source": [
    "day=1+2"
   ]
  },
  {
   "cell_type": "code",
   "execution_count": 10,
   "metadata": {},
   "outputs": [
    {
     "data": {
      "text/plain": [
       "3"
      ]
     },
     "execution_count": 10,
     "metadata": {},
     "output_type": "execute_result"
    }
   ],
   "source": [
    "day"
   ]
  },
  {
   "cell_type": "code",
   "execution_count": 1,
   "metadata": {},
   "outputs": [
    {
     "name": "stdout",
     "output_type": "stream",
     "text": [
      "what is your name?shashank\n",
      "How old are you?60\n",
      "Good morning Mr. shashank when you are going to die?\n"
     ]
    }
   ],
   "source": [
    "x=input(\"what is your name?\")\n",
    "y=int(input(\"How old are you?\"))\n",
    "if (y>50):\n",
    "       print(\"Good morning Mr.\",x,\"when you are going to die?\")\n",
    "elif (y>30):\n",
    "       print(\"Good morning Mr.\",x,'are you married?',\"how many kids do you have?\") \n",
    "elif (y>25):\n",
    "        print(\"Good morning Mr.\",x,'are you married?')\n",
    "else:\n",
    "        print('Good morning',x, 'where do you study?')"
   ]
  },
  {
   "cell_type": "code",
   "execution_count": 3,
   "metadata": {},
   "outputs": [
    {
     "name": "stdout",
     "output_type": "stream",
     "text": [
      "32\n"
     ]
    }
   ],
   "source": [
    "lst1=[1,2,3,4,5,8,9]\n",
    "sum1=0\n",
    "for x in lst1:\n",
    "    sum1=sum1+x\n",
    "print(sum1)    \n"
   ]
  },
  {
   "cell_type": "code",
   "execution_count": 6,
   "metadata": {},
   "outputs": [
    {
     "name": "stdout",
     "output_type": "stream",
     "text": [
      "No items left.\n",
      "Fsdfsfsf\n"
     ]
    }
   ],
   "source": [
    "digits = [0, 1, 5]\n",
    "\n",
    "for sfdsf in digits:\n",
    "    if sfdsf == 8:\n",
    "        break\n",
    "else:\n",
    "    print(\"No items left.\")\n",
    "print(\"Fsdfsfsf\")"
   ]
  },
  {
   "cell_type": "code",
   "execution_count": 8,
   "metadata": {},
   "outputs": [
    {
     "name": "stdout",
     "output_type": "stream",
     "text": [
      "Enter n:10\n",
      "Sum of even no.s is 20\n",
      "Sum of odd no.s is 25\n"
     ]
    }
   ],
   "source": [
    "n=int(input(\"Enter n:\"))\n",
    "even_sum=0\n",
    "odd_sum=0\n",
    "i=1\n",
    "while i<n:\n",
    "    if i%2==0:\n",
    "        even_sum=even_sum+i\n",
    "        i=i+1\n",
    "    else:\n",
    "        odd_sum=odd_sum+i\n",
    "        i=i+1\n",
    "print(\"Sum of even no.s is\",even_sum)\n",
    "print(\"Sum of odd no.s is\",odd_sum)"
   ]
  },
  {
   "cell_type": "code",
   "execution_count": 30,
   "metadata": {},
   "outputs": [
    {
     "name": "stdout",
     "output_type": "stream",
     "text": [
      "['3', '1', '8', '5']\n"
     ]
    }
   ],
   "source": [
    "x=list(range(2002,3200,7))\n",
    "x1=0\n",
    "for i in x:\n",
    "    if i%5==0:\n",
    "        x1=str(i)\n",
    "        continue   \n",
    "print(list(x1))"
   ]
  },
  {
   "cell_type": "code",
   "execution_count": 14,
   "metadata": {},
   "outputs": [
    {
     "data": {
      "text/plain": [
       "2"
      ]
     },
     "execution_count": 14,
     "metadata": {},
     "output_type": "execute_result"
    }
   ],
   "source": [
    "\n",
    "genre=(\"google\",\"yahoo\",\"rediff\")\n",
    "len(genre)-1"
   ]
  },
  {
   "cell_type": "code",
   "execution_count": null,
   "metadata": {},
   "outputs": [],
   "source": []
  }
 ],
 "metadata": {
  "kernelspec": {
   "display_name": "Python 3",
   "language": "python",
   "name": "python3"
  },
  "language_info": {
   "codemirror_mode": {
    "name": "ipython",
    "version": 3
   },
   "file_extension": ".py",
   "mimetype": "text/x-python",
   "name": "python",
   "nbconvert_exporter": "python",
   "pygments_lexer": "ipython3",
   "version": "3.7.1"
  }
 },
 "nbformat": 4,
 "nbformat_minor": 2
}
